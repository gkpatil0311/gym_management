{
 "cells": [
  {
   "cell_type": "code",
   "execution_count": 1,
   "metadata": {},
   "outputs": [],
   "source": [
    "import pandas as pd\n",
    "import sqlite3\n",
    "from datetime import timedelta\n",
    "from random import randint\n",
    "from pandas import to_datetime\n",
    "from datetime import datetime\n",
    "from datetime import timedelta\n",
    "from random import shuffle "
   ]
  },
  {
   "cell_type": "code",
   "execution_count": 2,
   "metadata": {},
   "outputs": [],
   "source": [
    "df = pd.read_csv('names.csv')\n",
    "df = df[['Id Number']]\n",
    "df = df.dropna().reset_index(drop=True)\n",
    "#df = df.drop_duplicates(subset=['Name']).reset_index(drop=True)\n",
    "df = df.drop_duplicates(subset=['Id Number']).reset_index(drop=True)\n",
    "df = df.dropna().reset_index(drop=True)"
   ]
  },
  {
   "cell_type": "code",
   "execution_count": 3,
   "metadata": {},
   "outputs": [],
   "source": [
    "#df"
   ]
  },
  {
   "cell_type": "code",
   "execution_count": 4,
   "metadata": {},
   "outputs": [],
   "source": [
    "def assign_equip(date, start_time, end_time, user_list):\n",
    "    # date : string yyyy-mm-dd\n",
    "    # time : string hh:mm:ss\n",
    "    start_time = to_datetime(f'{date} {start_time}')\n",
    "    end_time = to_datetime(f'{date} {end_time}')\n",
    "    curr_time = start_time\n",
    "    while curr_time < end_time:\n",
    "        time_in = curr_time\n",
    "        curr_time = curr_time + timedelta(seconds = randint(600, 3600))\n",
    "        time_out = curr_time\n",
    "        curr_time = curr_time + timedelta(seconds = randint(10, 600))\n",
    "        shuffle(user_list)\n",
    "        user_ = user_list.pop()\n",
    "        print(user_, time_in, time_out, curr_time)\n",
    "        #print(user_)\n",
    "        #print(len(user_list))\n",
    "        print(user_, time_in, time_out)\n",
    "    # here start time is 6 to 10:30"
   ]
  },
  {
   "cell_type": "raw",
   "metadata": {},
   "source": [
    "users = df['Id Number'].tolist()\n",
    "#users\n"
   ]
  },
  {
   "cell_type": "code",
   "execution_count": 5,
   "metadata": {},
   "outputs": [
    {
     "ename": "NameError",
     "evalue": "name 'users' is not defined",
     "output_type": "error",
     "traceback": [
      "\u001b[0;31m---------------------------------------------------------------------------\u001b[0m",
      "\u001b[0;31mNameError\u001b[0m                                 Traceback (most recent call last)",
      "\u001b[0;32m<ipython-input-5-912977a3679b>\u001b[0m in \u001b[0;36m<module>\u001b[0;34m\u001b[0m\n\u001b[1;32m      1\u001b[0m \u001b[0mdate\u001b[0m \u001b[0;34m=\u001b[0m \u001b[0mdatetime\u001b[0m\u001b[0;34m(\u001b[0m\u001b[0;36m2020\u001b[0m\u001b[0;34m,\u001b[0m \u001b[0;36m1\u001b[0m\u001b[0;34m,\u001b[0m \u001b[0;36m1\u001b[0m\u001b[0;34m)\u001b[0m\u001b[0;34m\u001b[0m\u001b[0;34m\u001b[0m\u001b[0m\n\u001b[0;32m----> 2\u001b[0;31m \u001b[0mtempuserlist\u001b[0m \u001b[0;34m=\u001b[0m \u001b[0musers\u001b[0m\u001b[0;34m\u001b[0m\u001b[0;34m\u001b[0m\u001b[0m\n\u001b[0m\u001b[1;32m      3\u001b[0m \u001b[0;32mfor\u001b[0m \u001b[0mi\u001b[0m \u001b[0;32min\u001b[0m \u001b[0mrange\u001b[0m\u001b[0;34m(\u001b[0m\u001b[0;36m30\u001b[0m\u001b[0;34m)\u001b[0m\u001b[0;34m:\u001b[0m\u001b[0;34m\u001b[0m\u001b[0;34m\u001b[0m\u001b[0m\n\u001b[1;32m      4\u001b[0m     \u001b[0mtrademill\u001b[0m\u001b[0;34m=\u001b[0m\u001b[0;34mf'trademill_'\u001b[0m\u001b[0;34m\u001b[0m\u001b[0;34m\u001b[0m\u001b[0m\n\u001b[1;32m      5\u001b[0m \u001b[0;34m\u001b[0m\u001b[0m\n",
      "\u001b[0;31mNameError\u001b[0m: name 'users' is not defined"
     ]
    }
   ],
   "source": [
    "\n",
    "date = datetime(2020, 1, 1)\n",
    "tempuserlist = users\n",
    "for i in range(30):\n",
    "    trademill=f'trademill_'\n",
    "    \n",
    "    l_users = tempuserlist\n",
    "    while len(l_users) > 300:# as some of useers will not be present\n",
    "        trademill += trademill + str(randint(0, 10))\n",
    "        \n",
    "        assign_equip(date, '06:00:00', '10:00:00', l_users)\n",
    "        #print(len(l_users))\n",
    "          \n",
    "    date += timedelta(days=1)\n",
    "    print(date)\n",
    "    print(len(l_users))\n",
    "    "
   ]
  },
  {
   "cell_type": "code",
   "execution_count": null,
   "metadata": {},
   "outputs": [],
   "source": []
  },
  {
   "cell_type": "code",
   "execution_count": null,
   "metadata": {},
   "outputs": [],
   "source": [
    "import sqlite3\n",
    "\n",
    "try:\n",
    "    sqliteConnection = sqlite3.connect('SQLite_Python.db')\n",
    "    cursor = sqliteConnection.cursor()\n",
    "    print(\"Successfully Connected to SQLite\")\n",
    "\n",
    "    sqlite_insert_query = \"\"\"INSERT INTO SqliteDb_developers\n",
    "                          (id, name, email, joining_date, salary) \n",
    "                           VALUES \n",
    "                          (1,'James','james@pynative.com','2019-03-17',8000)\"\"\"\n",
    "\n",
    "    count = cursor.execute(sqlite_insert_query)\n",
    "    sqliteConnection.commit()\n",
    "    print(\"Record inserted successfully into SqliteDb_developers table \", cursor.rowcount)\n",
    "    cursor.close()\n",
    "\n",
    "except sqlite3.Error as error:\n",
    "    print(\"Failed to insert data into sqlite table\", error)\n",
    "finally:\n",
    "    if (sqliteConnection):\n",
    "        sqliteConnection.close()\n",
    "        print(\"The SQLite connection is closed\")"
   ]
  }
 ],
 "metadata": {
  "kernelspec": {
   "display_name": "Python 3",
   "language": "python",
   "name": "python3"
  },
  "language_info": {
   "codemirror_mode": {
    "name": "ipython",
    "version": 3
   },
   "file_extension": ".py",
   "mimetype": "text/x-python",
   "name": "python",
   "nbconvert_exporter": "python",
   "pygments_lexer": "ipython3",
   "version": "3.8.5"
  }
 },
 "nbformat": 4,
 "nbformat_minor": 4
}
